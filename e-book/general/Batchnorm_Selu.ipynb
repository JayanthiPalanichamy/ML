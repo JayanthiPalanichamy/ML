{
 "cells": [
  {
   "cell_type": "markdown",
   "metadata": {},
   "source": [
    "## Batch norm and SELU"
   ]
  },
  {
   "cell_type": "code",
   "execution_count": 7,
   "metadata": {},
   "outputs": [],
   "source": [
    "import tensorflow as tf\n",
    "import numpy as np"
   ]
  },
  {
   "cell_type": "code",
   "execution_count": 106,
   "metadata": {},
   "outputs": [
    {
     "name": "stdout",
     "output_type": "stream",
     "text": [
      "Input mean and variance: 7.24437e-13 0.0\n",
      "Bn mean and variance: 0.0 0.0\n",
      "Selu mean and variance: -6.16186e-07 0.0\n"
     ]
    }
   ],
   "source": [
    "def selu(x, name=\"selu\"):\n",
    "    alpha = 1.6732632423543772848170429916717\n",
    "    scale = 1.0507009873554804934193349852946\n",
    "    return scale * tf.where(x >= 0.0, x, alpha * tf.nn.elu(x))\n",
    "\n",
    "num = 1\n",
    "X = tf.random_normal([num, 5], mean=10, stddev=3)\n",
    "bn = tf.random_normal([num, 5], mean=10, stddev=3)\n",
    "s = tf.random_normal([num, 5], mean=10, stddev=3)\n",
    "\n",
    "for _ in range(20):\n",
    "    w = tf.random_normal([5, 5], mean=0., stddev=1/5)\n",
    "    X = tf.nn.relu(tf.matmul(X, w))\n",
    "    bn = tf.nn.relu(tf.matmul(bn, w))\n",
    "    s = selu(tf.matmul(s, w))\n",
    "\n",
    "    mean, var = tf.nn.moments(X, axes=[0])\n",
    "    \n",
    "    scale = tf.Variable(tf.ones([5]))\n",
    "    beta = tf.Variable(tf.zeros([5]))\n",
    "    bn = tf.nn.batch_normalization(bn, mean, var, beta, scale, 1e-5)\n",
    "    bn_mean, bn_var = tf.nn.moments(bn, axes=[0])\n",
    "    \n",
    "    s_mean, s_var = tf.nn.moments(s, axes=[0])\n",
    "\n",
    "with tf.Session() as sess:\n",
    "    sess.run(tf.global_variables_initializer())\n",
    "    _mean, _var, _X = sess.run([mean, var, X])\n",
    "    _bn_mean, _bn_var, _bn = sess.run([bn_mean, bn_var, bn])\n",
    "    _s_mean, _s_var, _s = sess.run([s_mean, s_var, s])\n",
    "    \n",
    "    #print(_X, _bn, _s)\n",
    "    print('Input mean and variance:', np.mean(_mean), np.mean(np.sqrt(_var)))\n",
    "    print('Bn mean and variance:', np.mean(_bn_mean), np.mean(np.sqrt(_bn_var)))\n",
    "    print('Selu mean and variance:', np.mean(_s_mean), np.mean(np.sqrt(_s_var)))"
   ]
  },
  {
   "cell_type": "code",
   "execution_count": 110,
   "metadata": {},
   "outputs": [],
   "source": [
    "X = tf.placeholder(dtype=tf.int32, shape=(None, 32))\n",
    "X1 = tf.split(X, 128, 0)\n",
    "\n",
    "with tf.Session() as sess:\n",
    "    inp = np.random.randint(0, 10, size=(256, 32))\n",
    "    _X1 = sess.run(X1, feed_dict={X:inp})"
   ]
  },
  {
   "cell_type": "code",
   "execution_count": 114,
   "metadata": {},
   "outputs": [
    {
     "data": {
      "text/plain": [
       "32"
      ]
     },
     "execution_count": 114,
     "metadata": {},
     "output_type": "execute_result"
    }
   ],
   "source": [
    "len(_X1[0][1])"
   ]
  },
  {
   "cell_type": "code",
   "execution_count": null,
   "metadata": {
    "collapsed": true
   },
   "outputs": [],
   "source": [
    "tf.contrib.seq2seq.si"
   ]
  }
 ],
 "metadata": {
  "kernelspec": {
   "display_name": "Python 3",
   "language": "python",
   "name": "python3"
  },
  "language_info": {
   "codemirror_mode": {
    "name": "ipython",
    "version": 3
   },
   "file_extension": ".py",
   "mimetype": "text/x-python",
   "name": "python",
   "nbconvert_exporter": "python",
   "pygments_lexer": "ipython3",
   "version": "3.5.3"
  }
 },
 "nbformat": 4,
 "nbformat_minor": 2
}
