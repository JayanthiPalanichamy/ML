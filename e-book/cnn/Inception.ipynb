{
 "cells": [
  {
   "cell_type": "markdown",
   "metadata": {},
   "source": [
    "## Inception Model"
   ]
  },
  {
   "cell_type": "code",
   "execution_count": 1,
   "metadata": {},
   "outputs": [],
   "source": [
    "%matplotlib inline\n",
    "import matplotlib.pyplot as plt\n",
    "import tensorflow as tf\n",
    "import numpy as np\n",
    "import os\n",
    "import inception"
   ]
  },
  {
   "cell_type": "code",
   "execution_count": 2,
   "metadata": {},
   "outputs": [],
   "source": [
    "#Load inception model\n",
    "inception.data_dir = '/home/vijay/workspace/ml/databases/models/inception3/'\n",
    "model = inception.Inception()"
   ]
  },
  {
   "cell_type": "code",
   "execution_count": 3,
   "metadata": {},
   "outputs": [],
   "source": [
    "from PIL import Image\n",
    "def classify(image_path):\n",
    "    # Display the image.\n",
    "    #display(Image(image_path))\n",
    "    im = Image.open(image_path)\n",
    "    im.show()\n",
    "\n",
    "    # Use the Inception model to classify the image.\n",
    "    pred = model.classify(image_path=image_path)\n",
    "\n",
    "    # Print the scores and names for the top-10 predictions.\n",
    "    model.print_scores(pred=pred, k=10, only_first_name=True)    "
   ]
  },
  {
   "cell_type": "code",
   "execution_count": 5,
   "metadata": {},
   "outputs": [
    {
     "name": "stdout",
     "output_type": "stream",
     "text": [
      "89.11% : giant panda\n",
      " 0.78% : indri\n",
      " 0.30% : lesser panda\n",
      " 0.15% : custard apple\n",
      " 0.12% : earthstar\n",
      " 0.09% : sea urchin\n",
      " 0.05% : forklift\n",
      " 0.05% : digital watch\n",
      " 0.05% : gibbon\n",
      " 0.05% : go-kart\n"
     ]
    }
   ],
   "source": [
    "image_path = os.path.join(inception.data_dir, 'cropped_panda.jpg')\n",
    "classify(image_path)"
   ]
  },
  {
   "cell_type": "markdown",
   "metadata": {},
   "source": [
    "# Transfer learning on a CIFAR-10 dataset"
   ]
  },
  {
   "cell_type": "code",
   "execution_count": 6,
   "metadata": {},
   "outputs": [
    {
     "name": "stdout",
     "output_type": "stream",
     "text": [
      "Loading data: /home/vijay/workspace/ml/databases/cifar-10/cifar-10-batches-py/batches.meta\n"
     ]
    }
   ],
   "source": [
    "import cifar10\n",
    "from cifar10 import num_classes\n",
    "cifar10.data_path = '/home/vijay/workspace/ml/databases/cifar-10/'\n",
    "class_names = cifar10.load_class_names()"
   ]
  },
  {
   "cell_type": "code",
   "execution_count": 7,
   "metadata": {},
   "outputs": [
    {
     "data": {
      "text/plain": [
       "['airplane',\n",
       " 'automobile',\n",
       " 'bird',\n",
       " 'cat',\n",
       " 'deer',\n",
       " 'dog',\n",
       " 'frog',\n",
       " 'horse',\n",
       " 'ship',\n",
       " 'truck']"
      ]
     },
     "execution_count": 7,
     "metadata": {},
     "output_type": "execute_result"
    }
   ],
   "source": [
    "class_names"
   ]
  },
  {
   "cell_type": "code",
   "execution_count": 8,
   "metadata": {},
   "outputs": [
    {
     "name": "stdout",
     "output_type": "stream",
     "text": [
      "Loading data: /home/vijay/workspace/ml/databases/cifar-10/cifar-10-batches-py/data_batch_1\n",
      "Loading data: /home/vijay/workspace/ml/databases/cifar-10/cifar-10-batches-py/data_batch_2\n",
      "Loading data: /home/vijay/workspace/ml/databases/cifar-10/cifar-10-batches-py/data_batch_3\n",
      "Loading data: /home/vijay/workspace/ml/databases/cifar-10/cifar-10-batches-py/data_batch_4\n",
      "Loading data: /home/vijay/workspace/ml/databases/cifar-10/cifar-10-batches-py/data_batch_5\n"
     ]
    }
   ],
   "source": [
    "images_train, cls_train, labels_train = cifar10.load_training_data()"
   ]
  },
  {
   "cell_type": "code",
   "execution_count": 9,
   "metadata": {},
   "outputs": [
    {
     "name": "stdout",
     "output_type": "stream",
     "text": [
      "Loading data: /home/vijay/workspace/ml/databases/cifar-10/cifar-10-batches-py/test_batch\n"
     ]
    }
   ],
   "source": [
    "images_test, cls_test, labels_test = cifar10.load_test_data()"
   ]
  },
  {
   "cell_type": "code",
   "execution_count": 10,
   "metadata": {},
   "outputs": [
    {
     "name": "stdout",
     "output_type": "stream",
     "text": [
      "Size of:\n",
      "- Training-set:\t\t50000\n",
      "- Test-set:\t\t10000\n"
     ]
    }
   ],
   "source": [
    "print(\"Size of:\")\n",
    "print(\"- Training-set:\\t\\t{}\".format(len(images_train)))\n",
    "print(\"- Test-set:\\t\\t{}\".format(len(images_test)))"
   ]
  },
  {
   "cell_type": "code",
   "execution_count": 11,
   "metadata": {
    "collapsed": true
   },
   "outputs": [],
   "source": [
    "def plot_images(images, cls_true, cls_pred=None, smooth=True):\n",
    "\n",
    "    assert len(images) == len(cls_true)\n",
    "\n",
    "    # Create figure with sub-plots.\n",
    "    fig, axes = plt.subplots(3, 3)\n",
    "\n",
    "    # Adjust vertical spacing.\n",
    "    if cls_pred is None:\n",
    "        hspace = 0.3\n",
    "    else:\n",
    "        hspace = 0.6\n",
    "    fig.subplots_adjust(hspace=hspace, wspace=0.3)\n",
    "\n",
    "    # Interpolation type.\n",
    "    if smooth:\n",
    "        interpolation = 'spline16'\n",
    "    else:\n",
    "        interpolation = 'nearest'\n",
    "\n",
    "    for i, ax in enumerate(axes.flat):\n",
    "        # There may be less than 9 images, ensure it doesn't crash.\n",
    "        if i < len(images):\n",
    "            # Plot image.\n",
    "            ax.imshow(images[i],\n",
    "                      interpolation=interpolation)\n",
    "\n",
    "            # Name of the true class.\n",
    "            cls_true_name = class_names[cls_true[i]]\n",
    "\n",
    "            # Show true and predicted classes.\n",
    "            if cls_pred is None:\n",
    "                xlabel = \"True: {0}\".format(cls_true_name)\n",
    "            else:\n",
    "                # Name of the predicted class.\n",
    "                cls_pred_name = class_names[cls_pred[i]]\n",
    "\n",
    "                xlabel = \"True: {0}\\nPred: {1}\".format(cls_true_name, cls_pred_name)\n",
    "\n",
    "            # Show the classes as the label on the x-axis.\n",
    "            ax.set_xlabel(xlabel)\n",
    "        \n",
    "        # Remove ticks from the plot.\n",
    "        ax.set_xticks([])\n",
    "        ax.set_yticks([])\n",
    "    \n",
    "    # Ensure the plot is shown correctly with multiple plots\n",
    "    # in a single Notebook cell.\n",
    "    plt.show()"
   ]
  },
  {
   "cell_type": "code",
   "execution_count": 12,
   "metadata": {},
   "outputs": [
    {
     "data": {
      "image/png": "[encoded data removed]",
      "text/plain": [
       "<matplotlib.figure.Figure at 0x7fa7ccfdb898>"
      ]
     },
     "metadata": {},
     "output_type": "display_data"
    }
   ],
   "source": [
    "# Get the first images from the test-set.\n",
    "images = images_test[0:9]\n",
    "\n",
    "# Get the true classes for those images.\n",
    "cls_true = cls_test[0:9]\n",
    "\n",
    "# Plot the images and labels using our helper-function above.\n",
    "plot_images(images=images, cls_true=cls_true, smooth=False)"
   ]
  },
  {
   "cell_type": "code",
   "execution_count": 13,
   "metadata": {
    "collapsed": true
   },
   "outputs": [],
   "source": [
    "from inception import transfer_values_cache"
   ]
  },
  {
   "cell_type": "code",
   "execution_count": 14,
   "metadata": {
    "collapsed": true
   },
   "outputs": [],
   "source": [
    "file_path_cache_train = os.path.join(cifar10.data_path, 'inception_cifar10_train.pkl')\n",
    "file_path_cache_test = os.path.join(cifar10.data_path, 'inception_cifar10_test.pkl')"
   ]
  },
  {
   "cell_type": "code",
   "execution_count": 15,
   "metadata": {},
   "outputs": [
    {
     "name": "stdout",
     "output_type": "stream",
     "text": [
      "Processing Inception transfer-values for training-images ...\n",
      "- Data loaded from cache-file: /home/vijay/workspace/ml/databases/cifar-10/inception_cifar10_train.pkl\n"
     ]
    }
   ],
   "source": [
    "print(\"Processing Inception transfer-values for training-images ...\")\n",
    "\n",
    "# Scale images because Inception needs pixels to be between 0 and 255,\n",
    "# while the CIFAR-10 functions return pixels between 0.0 and 1.0\n",
    "images_scaled = images_train * 255.0\n",
    "\n",
    "# If transfer-values have already been calculated then reload them,\n",
    "# otherwise calculate them and save them to a cache-file.\n",
    "transfer_values_train = transfer_values_cache(cache_path=file_path_cache_train,\n",
    "                                              images=images_scaled,\n",
    "                                              model=model)"
   ]
  },
  {
   "cell_type": "code",
   "execution_count": 16,
   "metadata": {},
   "outputs": [
    {
     "name": "stdout",
     "output_type": "stream",
     "text": [
      "Processing Inception transfer-values for test-images ...\n",
      "- Data loaded from cache-file: /home/vijay/workspace/ml/databases/cifar-10/inception_cifar10_test.pkl\n"
     ]
    }
   ],
   "source": [
    "print(\"Processing Inception transfer-values for test-images ...\")\n",
    "\n",
    "# Scale images because Inception needs pixels to be between 0 and 255,\n",
    "# while the CIFAR-10 functions return pixels between 0.0 and 1.0\n",
    "images_scaled = images_test * 255.0\n",
    "\n",
    "# If transfer-values have already been calculated then reload them,\n",
    "# otherwise calculate them and save them to a cache-file.\n",
    "transfer_values_test = transfer_values_cache(cache_path=file_path_cache_test,\n",
    "                                             images=images_scaled,\n",
    "                                             model=model)"
   ]
  },
  {
   "cell_type": "code",
   "execution_count": 17,
   "metadata": {},
   "outputs": [
    {
     "data": {
      "text/plain": [
       "(50000, 2048)"
      ]
     },
     "execution_count": 17,
     "metadata": {},
     "output_type": "execute_result"
    }
   ],
   "source": [
    "transfer_values_train.shape"
   ]
  },
  {
   "cell_type": "code",
   "execution_count": 18,
   "metadata": {
    "collapsed": true
   },
   "outputs": [],
   "source": [
    "def plot_transfer_values(i):\n",
    "    print(\"Input image:\")\n",
    "    \n",
    "    # Plot the i'th image from the test-set.\n",
    "    plt.imshow(images_test[i], interpolation='nearest')\n",
    "    plt.show()\n",
    "\n",
    "    print(\"Transfer-values for the image using Inception model:\")\n",
    "    \n",
    "    # Transform the transfer-values into an image.\n",
    "    img = transfer_values_test[i]\n",
    "    img = img.reshape((32, 64))\n",
    "\n",
    "    # Plot the image for the transfer-values.\n",
    "    plt.imshow(img, interpolation='nearest', cmap='Reds')\n",
    "    plt.show()"
   ]
  },
  {
   "cell_type": "code",
   "execution_count": 19,
   "metadata": {},
   "outputs": [
    {
     "name": "stdout",
     "output_type": "stream",
     "text": [
      "Input image:\n"
     ]
    },
    {
     "data": {
      "image/png": "[encoded data removed]",
      "text/plain": [
       "<matplotlib.figure.Figure at 0x7fa7cc31fb38>"
      ]
     },
     "metadata": {},
     "output_type": "display_data"
    },
    {
     "name": "stdout",
     "output_type": "stream",
     "text": [
      "Transfer-values for the image using Inception model:\n"
     ]
    },
    {
     "data": {
      "image/png": "[encoded data removed]",
      "text/plain": [
       "<matplotlib.figure.Figure at 0x7fa7cc28be10>"
      ]
     },
     "metadata": {},
     "output_type": "display_data"
    }
   ],
   "source": [
    "%matplotlib inline\n",
    "plot_transfer_values(i=16)"
   ]
  },
  {
   "cell_type": "markdown",
   "metadata": {},
   "source": [
    "## Analysis of Transfer-Values using t-SNE"
   ]
  },
  {
   "cell_type": "code",
   "execution_count": null,
   "metadata": {},
   "outputs": [],
   "source": [
    "\n",
    "from sklearn.decomposition import PCA\n",
    "pca = PCA(n_components=50) # convert to PCA and then to t-sne as the later is very slowt\n",
    "transfer_values = transfer_values_train[0:3000]\n",
    "cls = cls_train[0:3000]\n",
    "transfer_values_50d = pca.fit_transform(transfer_values)\n"
   ]
  },
  {
   "cell_type": "code",
   "execution_count": null,
   "metadata": {
    "collapsed": true
   },
   "outputs": [],
   "source": [
    "from sklearn.manifold import TSNE\n",
    "tsne = TSNE(n_components=2)\n",
    "transfer_values_reduced = tsne.fit_transform(transfer_values_50d) \n",
    "transfer_values_reduced.shape"
   ]
  }
 ],
 "metadata": {
  "kernelspec": {
   "display_name": "Python 2",
   "language": "python",
   "name": "python2"
  },
  "language_info": {
   "codemirror_mode": {
    "name": "ipython",
    "version": 2
   },
   "file_extension": ".py",
   "mimetype": "text/x-python",
   "name": "python",
   "nbconvert_exporter": "python",
   "pygments_lexer": "ipython2",
   "version": "2.7.13"
  }
 },
 "nbformat": 4,
 "nbformat_minor": 2
}
