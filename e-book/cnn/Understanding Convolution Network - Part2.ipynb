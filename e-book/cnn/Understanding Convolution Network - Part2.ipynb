{
 "cells": [
  {
   "cell_type": "markdown",
   "metadata": {},
   "source": [
    "*********\n",
    " # Understanding convolutional networks - part 2:\n",
    "\n",
    "    1/ Use a set of weights(kernels) obtained from predefined gabor filters\n",
    "    2/ train a convolution network with the predefined filters\n",
    "    3/ Compare it with a convolutional network, with derived weights from back propagation\n",
    "*********"
   ]
  },
  {
   "cell_type": "code",
   "execution_count": 1,
   "metadata": {
    "collapsed": true
   },
   "outputs": [],
   "source": [
    "import tensorflow as tf\n",
    "import numpy as np\n",
    "import matplotlib.pyplot as plt"
   ]
  },
  {
   "cell_type": "code",
   "execution_count": 2,
   "metadata": {},
   "outputs": [],
   "source": [
    "def gabor(n_values=7, sigma=1.0, mean=0.0):\n",
    "    x = tf.linspace(-3.0, 3.0, n_values)\n",
    "    z = (tf.exp(tf.negative(tf.pow(x - mean, 2.0) /\n",
    "                       (2.0 * tf.pow(sigma, 2.0)))) *\n",
    "         (1.0 / (sigma * tf.sqrt(2.0 * 3.1415))))\n",
    "    gauss_kernel = tf.matmul(\n",
    "        tf.reshape(z, [n_values, 1]), tf.reshape(z, [1, n_values]))\n",
    "    x = tf.reshape(tf.sin(tf.linspace(-3.0, 3.0, n_values)), [n_values, 1])\n",
    "    y = tf.reshape(tf.ones_like(x), [1, n_values])\n",
    "    gabor_kernel = tf.multiply(tf.matmul(x, y), gauss_kernel)\n",
    "    return gabor_kernel"
   ]
  },
  {
   "cell_type": "code",
   "execution_count": 3,
   "metadata": {},
   "outputs": [],
   "source": [
    "with tf.Session() as sess:\n",
    "    out = gabor().eval()"
   ]
  },
  {
   "cell_type": "code",
   "execution_count": 4,
   "metadata": {},
   "outputs": [
    {
     "data": {
      "image/png": "[encoded data removed]",
      "text/plain": [
       "<matplotlib.figure.Figure at 0x7fbe5c21ab70>"
      ]
     },
     "metadata": {},
     "output_type": "display_data"
    }
   ],
   "source": [
    "plt.imshow(out, cmap='gray')\n",
    "plt.show()"
   ]
  },
  {
   "cell_type": "code",
   "execution_count": 5,
   "metadata": {},
   "outputs": [
    {
     "data": {
      "image/png": "[encoded data removed]",
      "text/plain": [
       "<matplotlib.figure.Figure at 0x7fbe5c1f54e0>"
      ]
     },
     "metadata": {},
     "output_type": "display_data"
    }
   ],
   "source": [
    "from PIL import Image\n",
    "kernels = []\n",
    "for i, angle in enumerate(range(0, 180, 10)):\n",
    "    rotated = Image.Image.rotate(Image.fromarray(out), angle)\n",
    "    kernels.append(np.array(rotated))\n",
    "plt.imshow(kernels[2], cmap='gray')\n",
    "plt.show()"
   ]
  },
  {
   "cell_type": "code",
   "execution_count": 6,
   "metadata": {
    "collapsed": true
   },
   "outputs": [],
   "source": [
    "# conv2d we will convolve the input with the predefined kernel\n",
    "def conv2d_maxpool(x_tensor, kernels, pool_ksize, pool_strides):\n",
    "    conv = tf.nn.conv2d(x_tensor, kernels, strides=[1, 1, 1, 1], padding='SAME')\n",
    "    conv = tf.nn.relu(conv)\n",
    "    conv = tf.nn.max_pool(conv, ksize = [1, pool_ksize[0], pool_ksize[1], 1],\n",
    "                         strides = [1, pool_strides[0], pool_strides[1], 1],\n",
    "                         padding = 'SAME')\n",
    "    return conv\n",
    "\n",
    "def flatten(x_tensor):\n",
    "    size = x_tensor.get_shape().as_list()\n",
    "    x_tensor = tf.reshape(x_tensor, [-1, size[1]*size[2]*size[3]])\n",
    "    return x_tensor\n",
    "\n",
    "def fully_conn(x_tensor, num_outputs):\n",
    "    size = x_tensor.get_shape().as_list()\n",
    "    weights = tf.Variable(tf.truncated_normal((size[1], num_outputs), stddev=5e-2))\n",
    "    bias = tf.Variable(tf.zeros(num_outputs))\n",
    "    dense = tf.add(tf.matmul(x_tensor, weights), bias)\n",
    "    out = tf.nn.relu(dense)\n",
    "    return out\n",
    "\n",
    "def output(x_tensor, num_outputs):\n",
    "    size = x_tensor.get_shape().as_list()\n",
    "    weights = tf.Variable(tf.truncated_normal((size[1], num_outputs), stddev=5e-2))\n",
    "    bias = tf.Variable(tf.zeros(num_outputs))\n",
    "    dense = tf.add(tf.matmul(x_tensor, weights), bias)\n",
    "    return dense\n"
   ]
  },
  {
   "cell_type": "code",
   "execution_count": 7,
   "metadata": {},
   "outputs": [
    {
     "name": "stdout",
     "output_type": "stream",
     "text": [
      "Extracting MNIST_data/train-images-idx3-ubyte.gz\n",
      "Extracting MNIST_data/train-labels-idx1-ubyte.gz\n",
      "Extracting MNIST_data/t10k-images-idx3-ubyte.gz\n",
      "Extracting MNIST_data/t10k-labels-idx1-ubyte.gz\n"
     ]
    }
   ],
   "source": [
    "# Download the MNIST dataset\n",
    "from tensorflow.examples.tutorials.mnist import input_data\n",
    "mnist = input_data.read_data_sets(\"MNIST_data/\", one_hot=True)"
   ]
  },
  {
   "cell_type": "code",
   "execution_count": 8,
   "metadata": {
    "collapsed": true
   },
   "outputs": [],
   "source": [
    "# define a simple convolution network\n",
    "def conv_net(x, kernels, keep_prob):\n",
    "    conv = conv2d_maxpool(x, kernels, (3,3), (2,2))\n",
    "    conv = tf.nn.dropout(conv, keep_prob)\n",
    "    flat = flatten(conv)\n",
    "    dense = fully_conn(flat, 128)\n",
    "    dense = tf.nn.dropout(dense, keep_prob)\n",
    "    out = output(dense, 10)\n",
    "    return out"
   ]
  },
  {
   "cell_type": "code",
   "execution_count": 9,
   "metadata": {},
   "outputs": [
    {
     "data": {
      "image/png": "[encoded data removed]",
      "text/plain": [
       "<matplotlib.figure.Figure at 0x7fbdf80875c0>"
      ]
     },
     "metadata": {},
     "output_type": "display_data"
    }
   ],
   "source": [
    "# The images are in a single vector of 784 (28*28). need to reshape to convert it to a image\n",
    "im = np.reshape(mnist.train.images[2],[28,28])\n",
    "plt.imshow(im, cmap='gray')\n",
    "plt.show()"
   ]
  },
  {
   "cell_type": "code",
   "execution_count": 10,
   "metadata": {},
   "outputs": [
    {
     "name": "stdout",
     "output_type": "stream",
     "text": [
      "step 2900, training accuracy 0.98 \n",
      " Test accuracy 0.945\n"
     ]
    }
   ],
   "source": [
    "tf.reset_default_graph()\n",
    "\n",
    "# Input placeholders\n",
    "x = tf.placeholder(tf.float32,(None, 784), name='x')\n",
    "x_image = tf.reshape(x, [-1, 28,28,1])\n",
    "y = tf.placeholder(tf.float32,(None, 10), name='y' )\n",
    "keep_prob = tf.placeholder(tf.float32, name='keep_prob')\n",
    "\n",
    "# The kernel weights are fixed\n",
    "kernels = np.reshape(kernels,[7,7,1,18])\n",
    "weights = tf.constant(kernels, dtype=tf.float32)\n",
    "logits = conv_net(x_image, weights, keep_prob)\n",
    "\n",
    "cost = tf.reduce_mean(tf.nn.softmax_cross_entropy_with_logits(logits=logits, labels=y))\n",
    "optimizer = tf.train.AdamOptimizer(3e-4).minimize(cost)\n",
    "correct_pred = tf.equal(tf.argmax(logits, 1), tf.argmax(y, 1))\n",
    "accuracy = tf.reduce_mean(tf.cast(correct_pred, tf.float32))\n",
    "\n",
    "with tf.Session() as sess:\n",
    "    sess.run(tf.global_variables_initializer())\n",
    "    for i in range(3000):\n",
    "        batch = mnist.train.next_batch(50)\n",
    "        optimizer.run(feed_dict={x: batch[0], y: batch[1], keep_prob: 0.5})\n",
    "        if i%100 == 0:\n",
    "            train_accuracy = accuracy.eval(feed_dict={x:batch[0], y:batch[1], keep_prob:1.0})\n",
    "            print(\"step %d, training accuracy %g \"%(i, train_accuracy), end='\\r', flush=True)\n",
    "    accuracy = sess.run(accuracy, feed_dict={x:mnist.validation.images, y:mnist.validation.labels, keep_prob:1.0})\n",
    "    print(\"\\n Test accuracy %g\"%accuracy)\n"
   ]
  },
  {
   "cell_type": "markdown",
   "metadata": {},
   "source": [
    "********\n",
    "We get a accuracy of more than 0.94 with the hand-coded kernel approach.\n",
    "Now instead of predefining our kernel, let the neural network find its own kernel through backpropagration.\n",
    "********"
   ]
  },
  {
   "cell_type": "code",
   "execution_count": 11,
   "metadata": {
    "collapsed": true
   },
   "outputs": [],
   "source": [
    "def conv2d_maxpool_w(x_tensor, conv_num_outputs, conv_ksize, conv_strides, pool_ksize, pool_strides):\n",
    "    \n",
    "    in_channels = x_tensor.get_shape().as_list()[3]\n",
    "    \n",
    "    weight = tf.Variable(tf.truncated_normal((conv_ksize[0], conv_ksize[1], in_channels, conv_num_outputs), stddev=5e-2))\n",
    "\n",
    "    bias = tf.Variable(tf.zeros(conv_num_outputs))\n",
    "    \n",
    "    \n",
    "    conv = tf.nn.conv2d(x_tensor, \n",
    "                        weight, \n",
    "                        strides=[1, conv_strides[0], conv_strides[1], 1],\n",
    "                        padding = 'SAME')\n",
    "    conv = tf.nn.bias_add(conv, bias)\n",
    "    conv = tf.nn.relu(conv) \n",
    "    conv_maxpool = tf.nn.max_pool(conv,\n",
    "                                  ksize = [1, pool_ksize[0], pool_ksize[1], 1],\n",
    "                                  strides = [1, pool_strides[0], pool_strides[1], 1],\n",
    "                                  padding = 'SAME')\n",
    "    return conv_maxpool\n",
    "\n",
    "# define a simple convolution network\n",
    "def conv_net_w(x, keep_prob):\n",
    "    conv = conv2d_maxpool_w(x, 18, (7,7),(1,1),(3,3),(2,2))\n",
    "    conv = tf.nn.dropout(conv, keep_prob)\n",
    "    flat = flatten(conv)\n",
    "    dense = fully_conn(flat, 128)\n",
    "    dense = tf.nn.dropout(dense, keep_prob)\n",
    "    out = output(dense, 10)\n",
    "    return out"
   ]
  },
  {
   "cell_type": "code",
   "execution_count": 12,
   "metadata": {},
   "outputs": [
    {
     "name": "stdout",
     "output_type": "stream",
     "text": [
      "step 2900, training accuracy 0.98 \n",
      " Test accuracy 0.9786\n"
     ]
    }
   ],
   "source": [
    "tf.reset_default_graph()\n",
    "\n",
    "# Input placeholders\n",
    "x = tf.placeholder(tf.float32,(None, 784), name='x')\n",
    "x_image = tf.reshape(x, [-1, 28,28,1])\n",
    "y = tf.placeholder(tf.float32,(None, 10), name='y' )\n",
    "keep_prob = tf.placeholder(tf.float32, name='keep_prob')\n",
    "\n",
    "logits = conv_net_w(x_image, keep_prob)\n",
    "\n",
    "cost = tf.reduce_mean(tf.nn.softmax_cross_entropy_with_logits(logits=logits, labels=y))\n",
    "optimizer = tf.train.AdamOptimizer(3e-4).minimize(cost)\n",
    "correct_pred = tf.equal(tf.argmax(logits, 1), tf.argmax(y, 1))\n",
    "accuracy = tf.reduce_mean(tf.cast(correct_pred, tf.float32))\n",
    "\n",
    "with tf.Session() as sess:\n",
    "    sess.run(tf.global_variables_initializer())\n",
    "    for i in range(3000):\n",
    "        batch = mnist.train.next_batch(50)\n",
    "        optimizer.run(feed_dict={x: batch[0], y: batch[1], keep_prob: 0.5})\n",
    "        if i%100 == 0:\n",
    "            train_accuracy = accuracy.eval(feed_dict={x:batch[0], y:batch[1], keep_prob:1.0})\n",
    "            print(\"step %d, training accuracy %g \"%(i, train_accuracy), end='\\r', flush=True)\n",
    "    accuracy = sess.run(accuracy, feed_dict={x:mnist.validation.images, y:mnist.validation.labels, keep_prob:1.0})\n",
    "    print(\"\\n Test accuracy %g\"%accuracy)\n"
   ]
  },
  {
   "cell_type": "code",
   "execution_count": null,
   "metadata": {
    "collapsed": true
   },
   "outputs": [],
   "source": [
    "In this case we get a Acuracy of 0.98.\n",
    "This database is easy to train, but if we use a tougher db like CIFAR-10, then we can see the obvious\n",
    "improvement over hand coded kernels."
   ]
  }
 ],
 "metadata": {
  "kernelspec": {
   "display_name": "Python 2",
   "language": "python",
   "name": "python2"
  },
  "language_info": {
   "codemirror_mode": {
    "name": "ipython",
    "version": 2
   },
   "file_extension": ".py",
   "mimetype": "text/x-python",
   "name": "python",
   "nbconvert_exporter": "python",
   "pygments_lexer": "ipython2",
   "version": "2.7.13"
  }
 },
 "nbformat": 4,
 "nbformat_minor": 2
}
