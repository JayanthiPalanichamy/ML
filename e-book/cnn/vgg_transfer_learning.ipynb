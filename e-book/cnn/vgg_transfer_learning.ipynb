{
 "cells": [
  {
   "cell_type": "markdown",
   "metadata": {},
   "source": [
    "# vgg transfer learning"
   ]
  },
  {
   "cell_type": "code",
   "execution_count": 1,
   "metadata": {
    "collapsed": true
   },
   "outputs": [],
   "source": [
    "import tensorflow as tf\n",
    "import numpy as np\n",
    "from tensorflow.contrib import slim\n",
    "from tensorflow.contrib.slim.nets import vgg"
   ]
  },
  {
   "cell_type": "code",
   "execution_count": 2,
   "metadata": {
    "collapsed": true
   },
   "outputs": [],
   "source": [
    "height = 244\n",
    "width = 244\n",
    "channels = 3\n",
    "batch_size = 64"
   ]
  },
  {
   "cell_type": "code",
   "execution_count": 3,
   "metadata": {},
   "outputs": [
    {
     "name": "stdout",
     "output_type": "stream",
     "text": [
      "INFO:tensorflow:Restoring parameters from /home/vijay/datasets/pre_trained_models/vgg_16.ckpt\n"
     ]
    }
   ],
   "source": [
    "vgg_graph = tf.Graph()\n",
    "\n",
    "with vgg_graph.as_default():\n",
    "    images = tf.placeholder(tf.float32, shape=[batch_size, height, width, channels])\n",
    "\n",
    "    with slim.arg_scope(vgg.vgg_arg_scope()):\n",
    "        outputs, end_points = vgg.vgg_16(images, is_training=False)\n",
    "\n",
    "    fc6 = end_points['vgg_16/fc6']\n",
    "\n",
    "\n",
    "with tf.Session(graph=vgg_graph) as sess:\n",
    "    saver = tf.train.Saver()\n",
    "    saver.restore(sess, '/home/vijay/datasets/pre_trained_models/vgg_16.ckpt')\n",
    "\n",
    "    # pass images through the network\n",
    "    fc6_output = sess.run(fc6, feed_dict={images:np.random.normal(size=(64, 244, 244, 3))})"
   ]
  },
  {
   "cell_type": "code",
   "execution_count": 4,
   "metadata": {},
   "outputs": [
    {
     "data": {
      "text/plain": [
       "array([[[[ 0.        ,  1.14278722,  0.        , ...,  0.        ,\n",
       "           1.33248973,  0.        ]]],\n",
       "\n",
       "\n",
       "       [[[ 0.        ,  1.1443435 ,  0.        , ...,  0.        ,\n",
       "           1.26016188,  0.08044769]]],\n",
       "\n",
       "\n",
       "       [[[ 0.        ,  1.06044269,  0.        , ...,  0.        ,\n",
       "           1.30186427,  0.00635681]]],\n",
       "\n",
       "\n",
       "       ..., \n",
       "       [[[ 0.        ,  0.96921414,  0.        , ...,  0.        ,\n",
       "           1.29213488,  0.        ]]],\n",
       "\n",
       "\n",
       "       [[[ 0.        ,  0.95104837,  0.        , ...,  0.        ,\n",
       "           1.25439572,  0.        ]]],\n",
       "\n",
       "\n",
       "       [[[ 0.        ,  1.08755851,  0.        , ...,  0.        ,\n",
       "           1.24105966,  0.        ]]]], dtype=float32)"
      ]
     },
     "execution_count": 4,
     "metadata": {},
     "output_type": "execute_result"
    }
   ],
   "source": [
    "fc6_output"
   ]
  },
  {
   "cell_type": "code",
   "execution_count": null,
   "metadata": {
    "collapsed": true
   },
   "outputs": [],
   "source": []
  }
 ],
 "metadata": {
  "kernelspec": {
   "display_name": "Python 3",
   "language": "python",
   "name": "python3"
  },
  "language_info": {
   "codemirror_mode": {
    "name": "ipython",
    "version": 3
   },
   "file_extension": ".py",
   "mimetype": "text/x-python",
   "name": "python",
   "nbconvert_exporter": "python",
   "pygments_lexer": "ipython3",
   "version": "3.5.3"
  }
 },
 "nbformat": 4,
 "nbformat_minor": 2
}
